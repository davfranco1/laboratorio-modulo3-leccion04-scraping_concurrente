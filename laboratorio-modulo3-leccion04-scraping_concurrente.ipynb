{
 "cells": [
  {
   "cell_type": "code",
   "execution_count": 2,
   "metadata": {},
   "outputs": [
    {
     "name": "stderr",
     "output_type": "stream",
     "text": [
      "/Users/davidfranco/Library/Python/3.9/lib/python/site-packages/urllib3/__init__.py:35: NotOpenSSLWarning: urllib3 v2 only supports OpenSSL 1.1.1+, currently the 'ssl' module is compiled with 'LibreSSL 2.8.3'. See: https://github.com/urllib3/urllib3/issues/3020\n",
      "  warnings.warn(\n"
     ]
    }
   ],
   "source": [
    "# Importamos las librerías que necesitamos\n",
    "import tqdm as tddm\n",
    "from bs4 import BeautifulSoup\n",
    "import time\n",
    "from time import sleep\n",
    "import pandas as pd\n",
    "import numpy as np\n",
    "import random\n",
    "\n",
    "# Importar librerías para automatización de navegadores web con Selenium\n",
    "# -----------------------------------------------------------------------\n",
    "from selenium import webdriver  # Selenium es una herramienta para automatizar la interacción con navegadores web.\n",
    "from webdriver_manager.chrome import ChromeDriverManager  # ChromeDriverManager gestiona la instalación del controlador de Chrome.\n",
    "from selenium.webdriver.common.keys import Keys  # Keys es útil para simular eventos de teclado en Selenium.\n",
    "from selenium.webdriver.support.ui import Select  # Select se utiliza para interactuar con elementos <select> en páginas web.\n",
    "from selenium.webdriver.support.ui import WebDriverWait\n",
    "from selenium.webdriver.support import expected_conditions as EC\n",
    "from selenium.common.exceptions import NoSuchElementException # Excepciones comunes de selenium que nos podemos encontrar "
   ]
  },
  {
   "cell_type": "code",
   "execution_count": 4,
   "metadata": {},
   "outputs": [],
   "source": [
    "csv_municipios = pd.read_csv(\"csv_municipios.csv\", index_col = 0)\n",
    "lista_codigos = csv_municipios[\"index\"].tolist()"
   ]
  },
  {
   "cell_type": "code",
   "execution_count": 6,
   "metadata": {},
   "outputs": [
    {
     "name": "stdout",
     "output_type": "stream",
     "text": [
      "['IAJALV3', 'IMORAL25', 'IALBACET33', 'IALCOB23', 'IALCORCN13', 'IALGET4', 'IALPED10', 'IARANJ4', 'IARGAN15', 'IBATRE1', 'IBECER12', 'IBOADI12', 'IELBOA16', 'IBRUNE25', 'IBUITR2', 'IBUSTA12', 'ICABAN28', 'IMCHUECA17', 'ICAMAR23', 'ICERCE16', 'ICHINC15', 'ICIEMP5', 'ICOBEA3', 'ICOLLA20', 'ICOLLA28', 'ICOLME38', 'ICOLME74', 'ICOLME91', 'ICOSLA10', 'ICUBAS2', 'IDAGAN9', 'IELESC10', 'IFUENLAB14', 'IFUENT45', 'IGALAP24', 'IVILLA424', 'IMADRIDG2', 'IGRIN2', 'IGUADA34', 'IGUADARR14', 'IHOYODEM5', 'IGRIN2', '100C lite', 'IMCHUECA17', 'IMAJAD32', 'IMANZA19', 'IMECO5', 'IMEJOR4', 'IELMOL3', 'IMORALZA8', 'IMORAT67', 'IMSTOL16', 'INAVAC1', 'IVALDE238', 'INAVAL17', 'INAVAS9', 'INUEVO30', 'IVILLA1123', 'IPARAC71', 'IPARLA26', 'ITORRE333', 'IPEDRE32', 'IPINTO9', 'IPOZUE41', 'IQUIJO1', 'IRASCA5', 'IRIVAS87', 'IROBLE35', 'Alto de la Jabonería', 'ISANAG23', 'ISANFE116', 'IELESC10', 'ICIEMP5', 'ISANMA103', 'ISANSE135', 'ILOSSA31', 'ISERRA76', 'ICOMUNID317', 'ISOTOD29', 'ITALAM7', 'Torrejón de Ardoz', '1', 'ITORRE334', 'ITORRE406', 'ITORRE413', 'ITORRE158', 'ITRESC2', 'IVALDE265', 'IVALDE302', 'ITIELM1', 'IVILLA1379', 'IVILLA1379', 'IFUENT87', 'IVILLA984', 'IVILLA1325', 'IBELMO62', 'IVILLA777', 'IZARZA9']\n"
     ]
    }
   ],
   "source": [
    "print(lista_codigos)"
   ]
  },
  {
   "cell_type": "code",
   "execution_count": 2,
   "metadata": {},
   "outputs": [],
   "source": [
    "def dataframe_mes(sopa, municipio, mes):\n",
    "    \"\"\"\n",
    "    Procesa los datos climáticos de una tabla HTML (extraída con BeautifulSoup) para un municipio y mes específicos,\n",
    "    separando las columnas de temperaturas, punto de rocío, humedad, velocidad del viento y presión en columnas de \n",
    "    valores máximos, promedios y mínimos.\n",
    "\n",
    "    Args:\n",
    "        sopa (BeautifulSoup): Objeto de BeautifulSoup que contiene las tablas HTML con los datos climáticos.\n",
    "        municipio (str): Nombre del municipio al que corresponden los datos climáticos.\n",
    "        mes (str): Nombre o número del mes correspondiente a los datos climáticos.\n",
    "\n",
    "    Returns:\n",
    "        pandas.DataFrame: DataFrame con los datos procesados, incluyendo:\n",
    "                          - Municipio\n",
    "                          - Mes\n",
    "                          - T Max, T Avg, T Min (Temperatura)\n",
    "                          - DP Max, DP Avg, DP Min (Punto de rocío)\n",
    "                          - H Max, H Avg, H Min (Humedad)\n",
    "                          - W Max, W Avg, W Min (Velocidad del viento)\n",
    "                          - P Max, P Avg, P Min (Presión)\n",
    "    \"\"\"\n",
    "    lista_df = []\n",
    "\n",
    "    # Extraer filas de cada tabla y convertirlas en DataFrame\n",
    "    for tabla in sopa:\n",
    "        df = pd.DataFrame([tabla.findChildren('tr')[i].text for i in range(len(tabla.findChildren('tr')))])\n",
    "        lista_df.append(df)\n",
    "\n",
    "    # Concatenar las tablas\n",
    "    df_final = pd.concat(lista_df, axis=1)\n",
    "\n",
    "    # Eliminar la primera fila (asumiendo que contiene encabezados o datos irrelevantes)\n",
    "    df_final = df_final.iloc[1:]\n",
    "\n",
    "    # Función auxiliar para separar columnas en múltiples valores\n",
    "    def separar_columnas(df, columna, nuevas_columnas):\n",
    "        df[nuevas_columnas] = df[columna].str.split(expand=True)\n",
    "        df.drop(columns=[columna], inplace=True)\n",
    "\n",
    "    # Añadir columnas de Municipio y Mes\n",
    "    df_final.insert(loc=0, column=\"Municipio\", value=municipio)\n",
    "    df_final.insert(loc=1, column=\"Mes\", value=mes)\n",
    "\n",
    "    # Separar columnas en máximos, promedios y mínimos\n",
    "    separar_columnas(df_final, 'Temperature', ['T Max', 'T Avg', 'T Min'])\n",
    "    separar_columnas(df_final, 'Dew Point', ['DP Max', 'DP Avg', 'DP Min'])\n",
    "    separar_columnas(df_final, 'Humidity', ['H Max', 'H Avg', 'H Min'])\n",
    "    separar_columnas(df_final, 'Wind Speed', ['W Max', 'W Avg', 'W Min'])\n",
    "    separar_columnas(df_final, 'Pressure', ['P Max', 'P Avg', 'P Min'])\n",
    "\n",
    "    return df_final"
   ]
  },
  {
   "cell_type": "code",
   "execution_count": null,
   "metadata": {},
   "outputs": [],
   "source": [
    "driver = webdriver.Chrome()\n",
    "url_wunder = \"https://www.wunderground.com/history\"\n",
    "driver.get(url_wunder)\n",
    "time.sleep(2)\n",
    "\n",
    "try:\n",
    "    iframe = WebDriverWait(driver, 10).until(EC.presence_of_element_located(('xpath', '//*[@id=\"sp_message_iframe_1165301\"]')))\n",
    "    driver.switch_to.frame(iframe)\n",
    "    driver.find_element(\"css selector\", \"#notice > div.message-component.message-row.cta-buttons-container > div.message-component.message-column.cta-button-column.reject-column > button\").click()\n",
    "    driver.switch_to.default_content()\n",
    "    time.sleep(5)\n",
    "except:\n",
    "    print('Botón cookies no encontrado')\n",
    "\n",
    "#lista_codigos\n",
    "\n",
    "for municipio in lista_codigos:\n",
    "    try:\n",
    "        driver.find_element(\"css selector\", \"#historySearch\").send_keys(municipio, Keys.TAB)\n",
    "        time.sleep(3)\n",
    "        driver.find_element(\"css selector\", \"#dateSubmit\").click()\n",
    "        time.sleep(3)\n",
    "        driver.find_element(\"css selector\", \"#dateSubmit\").click()\n",
    "        time.sleep(3)\n",
    "        driver.find_element(\"css selector\", \"#inner-content > div.region-content-main > div.row > div:nth-child(1) > div:nth-child(1) > div > lib-link-selector > div > div > div > a:nth-child(3)\").click()\n",
    "        time.sleep(3)\n",
    "    except:\n",
    "        print(\"Ha ocurrido un error al intentar ingresar a la URL\")\n",
    "    \n",
    "    url_iteracion = driver.current_url\n",
    "    print(f\"Iterando sobre {url_iteracion}\")\n",
    "    lista_urls = [url_iteracion[:-2] + str(mes) for mes in range(1, 11)]\n",
    "    lista_tablas = []\n",
    "    \n",
    "    for url in lista_urls:\n",
    "        try:\n",
    "            driver.get(url)\n",
    "            mes = url[-2:]\n",
    "            time.sleep(2)\n",
    "            html_table_page = driver.page_source\n",
    "            sopa = BeautifulSoup(html_table_page, 'html.parser')\n",
    "            tabla = sopa.findAll(\"table\", {'aria-labelledby': 'Days data'})\n",
    "            if not tabla:\n",
    "                print(f'Tabla no encontrada para: {url}')\n",
    "                continue\n",
    "            \n",
    "            tabla1 = dataframe_mes(tabla, municipio, mes)\n",
    "            if tabla1 is not None:\n",
    "                lista_tablas.append(tabla1)\n",
    "            else:\n",
    "                print(f'Ha ocurrido un error para el municipio {municipio} en {mes}')\n",
    "        except Exception as e:\n",
    "            print(f\"Error al procesar la URL {e}\")\n",
    "    \n",
    "    lista_tablas_municipios = []\n",
    "\n",
    "    if lista_tablas:\n",
    "        df_unido = pd.concat(lista_tablas, ignore_index=True)\n",
    "        lista_tablas_municipios.append(df_unido)\n",
    "        driver.get(url_wunder)\n",
    "    else:\n",
    "        print(f'No hay datos para el municipio {municipio}')\n",
    "        driver.get(url_wunder)\n",
    "\n",
    "df_completo = pd.concat(lista_tablas_municipios, ignore_index=True)\n"
   ]
  }
 ],
 "metadata": {
  "kernelspec": {
   "display_name": "Python 3",
   "language": "python",
   "name": "python3"
  },
  "language_info": {
   "codemirror_mode": {
    "name": "ipython",
    "version": 3
   },
   "file_extension": ".py",
   "mimetype": "text/x-python",
   "name": "python",
   "nbconvert_exporter": "python",
   "pygments_lexer": "ipython3",
   "version": "3.9.6"
  }
 },
 "nbformat": 4,
 "nbformat_minor": 2
}
